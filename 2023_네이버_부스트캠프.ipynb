{
  "nbformat": 4,
  "nbformat_minor": 0,
  "metadata": {
    "colab": {
      "provenance": [],
      "authorship_tag": "ABX9TyMtTsqZm5FxdISiG+T6SpO/",
      "include_colab_link": true
    },
    "kernelspec": {
      "name": "python3",
      "display_name": "Python 3"
    },
    "language_info": {
      "name": "python"
    }
  },
  "cells": [
    {
      "cell_type": "markdown",
      "metadata": {
        "id": "view-in-github",
        "colab_type": "text"
      },
      "source": [
        "<a href=\"https://colab.research.google.com/github/jennifer060697/AI15_Project/blob/main/2023_%EB%84%A4%EC%9D%B4%EB%B2%84_%EB%B6%80%EC%8A%A4%ED%8A%B8%EC%BA%A0%ED%94%84.ipynb\" target=\"_parent\"><img src=\"https://colab.research.google.com/assets/colab-badge.svg\" alt=\"Open In Colab\"/></a>"
      ]
    },
    {
      "cell_type": "markdown",
      "source": [
        "### 2023.03.22 (수)\n",
        "- 공부 시작  \n",
        "말도 안되지만(?) 생각을 멈추는 시간이 열흘이나 필요했다. 지난주부터 어제까지.. 아무것도 안하고 방안에만 있었음. 회복이 좀 된것같다. 다시 도전하기로 했다. 부담은 좀 덜고 할 수 있는 만큼씩!!\n",
        "<br><br>\n",
        "- 변성윤 마스터님 두런두런을 듣고...  \n",
        "끊임없이 뭔가를 계속 하시는 분. 엄청 바쁘게 사셨을것같다. 그리고 메모하는 습관이 완벽한 사람. 글을 진짜 잘쓰시는듯. 여태까지 자신이 일궜던 것들을 모두 기억하고 줄줄줄 뱉을 수 있는 분이다. 나도 가지고 싶은  능력. 내 자신을 다시금 돌아보고 내 연혁을 만드는 일을 좀 해봐야겠다.  \n",
        "나이가 34이라고 하셨던것 같은데.. 나도 34에는 저렇게 내가 하고자 했던걸 도전할 수 있는 좀 더 정돈된 사람이 되어있을 수 있을까?  \n",
        "지금부터 일기는 매일 쓰는걸로 하자. 깃허브에 이런식으로 일기쓰는거 되게 재밌는것같다. 근데 이렇게 코랩으로 작성하면 잔디 안자랐던것 같은디,,,,\n",
        "<br><br>\n",
        "-  상담  \n",
        "세션 종료할지 말지 고민이 많이 된다. 내가 나를 계속 돌아볼 수 있는 시간이 많으면 좀 더 집중해서 받을 수 있을텐데. 근데 오늘부터 다시 으쌰 하고 일어나기로 했고, 상담에 쓸 수 있는 메모도 작성해서 가기로 했으니까 다음주엔 잘 할 수 있을것이다. 아직은 좀 더 유익하게 쓸 수 있을것같아!\n",
        "<br><br>\n",
        "- 스케이트보드  \n",
        "\"재밌는거\"에 대해서 고민하던걸 오늘 gpt 한테도 물어봤다. 여러가지 생각을 했고, 진짜 '재밌는거!' 가 떠올랐다. 스케이트보드 타기! 지금 사러갈것이다. 여의도 한강공원 같은데서 타면 되지 않을까?"
      ],
      "metadata": {
        "id": "IHSTpgdQsMVB"
      }
    }
  ]
}