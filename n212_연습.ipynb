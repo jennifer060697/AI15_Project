{
  "nbformat": 4,
  "nbformat_minor": 0,
  "metadata": {
    "colab": {
      "provenance": [],
      "authorship_tag": "ABX9TyOWMylm1zCMHzBJ8/AHeb8U",
      "include_colab_link": true
    },
    "kernelspec": {
      "name": "python3",
      "display_name": "Python 3"
    },
    "language_info": {
      "name": "python"
    }
  },
  "cells": [
    {
      "cell_type": "markdown",
      "metadata": {
        "id": "view-in-github",
        "colab_type": "text"
      },
      "source": [
        "<a href=\"https://colab.research.google.com/github/jennifer060697/AI15_Project/blob/main/n212_%EC%97%B0%EC%8A%B5.ipynb\" target=\"_parent\"><img src=\"https://colab.research.google.com/assets/colab-badge.svg\" alt=\"Open In Colab\"/></a>"
      ]
    },
    {
      "cell_type": "markdown",
      "source": [
        "*AIB/SECTION2/SPRINT1/NOTE2*\n",
        "============================\n",
        "\n",
        "------------------------------\n",
        "\n",
        "\n",
        "Generalization"
      ],
      "metadata": {
        "id": "NQ-jtLg89U8G"
      }
    },
    {
      "cell_type": "code",
      "execution_count": null,
      "metadata": {
        "id": "L95w5EpK9MMM"
      },
      "outputs": [],
      "source": []
    }
  ]
}