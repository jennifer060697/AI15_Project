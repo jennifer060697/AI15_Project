{
  "nbformat": 4,
  "nbformat_minor": 0,
  "metadata": {
    "colab": {
      "provenance": [],
      "authorship_tag": "ABX9TyOjpER7u6RJigEm9BuoKT9c",
      "include_colab_link": true
    },
    "kernelspec": {
      "name": "python3",
      "display_name": "Python 3"
    },
    "language_info": {
      "name": "python"
    }
  },
  "cells": [
    {
      "cell_type": "markdown",
      "metadata": {
        "id": "view-in-github",
        "colab_type": "text"
      },
      "source": [
        "<a href=\"https://colab.research.google.com/github/jennifer060697/AI15_Project/blob/main/n212_%EC%97%B0%EC%8A%B5.ipynb\" target=\"_parent\"><img src=\"https://colab.research.google.com/assets/colab-badge.svg\" alt=\"Open In Colab\"/></a>"
      ]
    },
    {
      "cell_type": "markdown",
      "source": [
        "마크다운 연습겸 노트 아예 베끼기~\n",
        "\n",
        "*AIB / SECTION2 / SPRINT1 / NOTE2*\n",
        "============================\n",
        "\n",
        "------------------------------\n",
        "# Generalization\n",
        "<br/>"
      ],
      "metadata": {
        "id": "NQ-jtLg89U8G"
      }
    },
    {
      "cell_type": "markdown",
      "source": [
        "\n",
        "# 🏆 학습 목표\n",
        "- 일반화란 무엇인지 이해하고 다양한 모델 검증 방법으로 일반화 성능..\n",
        "- HoldOut Balidation, Cross Validation (홀드아웃은 검증 성능이 좀 떨어지긴하지만 일단 빨라서 좋다. cv 는 너무 오래걸리는 문제가 생김. fit 을 여러번 시켜야하니까..)\n",
        "- 편향/분산 Trade Off"
      ],
      "metadata": {
        "id": "bRmNcY0PEKKQ"
      }
    },
    {
      "cell_type": "markdown",
      "source": [
        "## Warm up"
      ],
      "metadata": {
        "id": "22qBZI6_EeaU"
      }
    },
    {
      "cell_type": "markdown",
      "source": [
        "------------------------------------------------------------"
      ],
      "metadata": {
        "id": "7tyb2MhBE9Rl"
      }
    },
    {
      "cell_type": "markdown",
      "source": [
        "## 1. Generalizaion\n",
        "일반화 (Generalization) 모델을 만드는 데 사용된 분포와 ***동일한 분포***에서 추출한. 이전에는 볼 수 없었던 *새로운 데이터*에 적절하게 적응하는 모델 능력  \n",
        "머신러닝의 목적은 일반화가 잘된 예측 모델을 만드는것.."
      ],
      "metadata": {
        "id": "q-xuApXIFCdX"
      }
    },
    {
      "cell_type": "markdown",
      "source": [
        "## 2. Data Split & Validation (확인 = 검증 세트)\n",
        "### Hold Out\n",
        "\n",
        "2way holdout : train, test set  \n",
        "test set 가 의미있기 위한 2가지 조건  \n",
        "- 의미있는 결과를 낼 수 있을 정도로 데이터가 충분한가? 이건 어떻게 알아... 1000개로 충분한지, 10000개로 충분한지, 100만개도 부족할수도 있잖아\n",
        "- 테스트 데이터가 전체 데이터를 대표할 수 있는가? 훈련셋과 특성이 비슷해야한다.\n",
        "\n",
        "<br/>\n",
        "\n",
        "보지 않은 데이터! 데이터 리키지! 일반화 성능 측정! 매우 중요하다  \n",
        "\n",
        "<br/>\n",
        "\n",
        "3way holdout : train, val, test set"
      ],
      "metadata": {
        "id": "vIi5GPvwFw2j"
      }
    },
    {
      "cell_type": "markdown",
      "source": [
        "## Case Study : Predicting House Price"
      ],
      "metadata": {
        "id": "LJjeFJhcItMd"
      }
    },
    {
      "cell_type": "code",
      "execution_count": 1,
      "metadata": {
        "id": "L95w5EpK9MMM"
      },
      "outputs": [],
      "source": [
        "# import\n",
        "import pandas as pd"
      ]
    },
    {
      "cell_type": "code",
      "source": [
        "df = pd.read_csv('https://ds-lecture-data.s3.ap-northeast-2.amazonaws.com/house-prices/house_prices_train.csv')\n",
        "df_t = pd.read_csv('https://ds-lecture-data.s3.ap-northeast-2.amazonaws.com/house-prices/house_prices_test.csv')"
      ],
      "metadata": {
        "id": "8AhtVHyhI3Jt"
      },
      "execution_count": 2,
      "outputs": []
    },
    {
      "cell_type": "code",
      "source": [
        "# train 75%로 분할\n",
        "len(df)*0.75"
      ],
      "metadata": {
        "colab": {
          "base_uri": "https://localhost:8080/"
        },
        "id": "lRy4aMMYJGoP",
        "outputId": "d2991c22-6b99-469c-f275-a8276e68dbe8"
      },
      "execution_count": 3,
      "outputs": [
        {
          "output_type": "execute_result",
          "data": {
            "text/plain": [
              "1095.0"
            ]
          },
          "metadata": {},
          "execution_count": 3
        }
      ]
    },
    {
      "cell_type": "code",
      "source": [
        "# pandas sample로 쪼개기\n",
        "train = df.sample(frac=0.75, random_state=1)\n",
        "test = df.drop(train.index)"
      ],
      "metadata": {
        "id": "7vGIOn8WJOwF"
      },
      "execution_count": 4,
      "outputs": []
    },
    {
      "cell_type": "code",
      "source": [
        "print('train set : ', train.shape)\n",
        "print('test set : ', test.shape)"
      ],
      "metadata": {
        "colab": {
          "base_uri": "https://localhost:8080/"
        },
        "id": "RhxJJ7OpJkPG",
        "outputId": "d63330f0-341c-4b4f-aea5-f7e0b54311e2"
      },
      "execution_count": 5,
      "outputs": [
        {
          "output_type": "stream",
          "name": "stdout",
          "text": [
            "train set :  (1095, 81)\n",
            "test set :  (365, 81)\n"
          ]
        }
      ]
    },
    {
      "cell_type": "code",
      "source": [
        "# validation set 분할\n",
        "\n",
        "train_2 = train.sample(frac = 0.75, random_state = 1)\n",
        "val = train.drop(train_2.index)"
      ],
      "metadata": {
        "id": "zE5IiNSFJrYk"
      },
      "execution_count": 7,
      "outputs": []
    },
    {
      "cell_type": "code",
      "source": [
        "print('train set : ',train_2.shape)\n",
        "print('validation set : ', val.shape)\n",
        "print('test set : ', test.shape)"
      ],
      "metadata": {
        "colab": {
          "base_uri": "https://localhost:8080/"
        },
        "id": "yealR3HVKAOA",
        "outputId": "d06de90f-fd3d-4a6d-a39b-544e46312148"
      },
      "execution_count": 8,
      "outputs": [
        {
          "output_type": "stream",
          "name": "stdout",
          "text": [
            "train set :  (821, 81)\n",
            "validation set :  (274, 81)\n",
            "test set :  (365, 81)\n"
          ]
        }
      ]
    },
    {
      "cell_type": "code",
      "source": [
        "from sklearn.model_selection import train_test_split\n",
        "\n",
        "#train, test, validation\n",
        "train_sk, test_sk = train_test_split(df, test_size= 0.25, random_state = 1)\n",
        "train_sk, val_sk = train_test_split(train_sk, test_size= 0.25, random_state = 1)\n",
        "\n",
        "print('train_sk : ', train_sk.shape)\n",
        "print('val_sk : ', val_sk.shape)\n",
        "print('test_sk : ', test_sk.shape)"
      ],
      "metadata": {
        "colab": {
          "base_uri": "https://localhost:8080/"
        },
        "id": "rJa-uXCSKQVq",
        "outputId": "cad71de1-a8a2-4582-a74b-06c60b715165"
      },
      "execution_count": 10,
      "outputs": [
        {
          "output_type": "stream",
          "name": "stdout",
          "text": [
            "train_sk :  (821, 81)\n",
            "val_sk :  (274, 81)\n",
            "test_sk :  (365, 81)\n"
          ]
        }
      ]
    },
    {
      "cell_type": "code",
      "source": [
        "train_2.index"
      ],
      "metadata": {
        "colab": {
          "base_uri": "https://localhost:8080/"
        },
        "id": "UuHmTaybK0Dc",
        "outputId": "48784e03-d33c-401a-ddb3-2be2eed78c0f"
      },
      "execution_count": 11,
      "outputs": [
        {
          "output_type": "execute_result",
          "data": {
            "text/plain": [
              "Int64Index([ 361, 1172,  939,  374, 1382,  453,  114,  584,  529, 1253,\n",
              "            ...\n",
              "             493,  168,  104,  255,  304, 1318, 1063, 1316, 1179,  434],\n",
              "           dtype='int64', length=821)"
            ]
          },
          "metadata": {},
          "execution_count": 11
        }
      ]
    },
    {
      "cell_type": "code",
      "source": [
        "train_sk.index"
      ],
      "metadata": {
        "colab": {
          "base_uri": "https://localhost:8080/"
        },
        "id": "atQtwUp6K35j",
        "outputId": "4e994d2e-a8ac-4e5d-e2b3-1c0ee89351da"
      },
      "execution_count": 12,
      "outputs": [
        {
          "output_type": "execute_result",
          "data": {
            "text/plain": [
              "Int64Index([ 536,  144, 1123,  395, 1282,  684,  271, 1158,  913,  672,\n",
              "            ...\n",
              "            1060,  488,  205,  622,  630, 1234, 1275,  973,  326,  829],\n",
              "           dtype='int64', length=821)"
            ]
          },
          "metadata": {},
          "execution_count": 12
        }
      ]
    },
    {
      "cell_type": "code",
      "source": [
        "# 선형적 상관관계가 높은 특성만 사용\n",
        "\n",
        "num_features = df.dtypes[df.dtypes!='object'].index # 이렇게 뽑을 수 있구만..\n",
        "df[num_features].corr()['SalePrice'].sort_values(ascending = False).head(10)"
      ],
      "metadata": {
        "colab": {
          "base_uri": "https://localhost:8080/"
        },
        "id": "_ONtjcoJK5AR",
        "outputId": "6ed8e577-da28-4ee4-da3e-b4c8c7c8d82d"
      },
      "execution_count": 14,
      "outputs": [
        {
          "output_type": "execute_result",
          "data": {
            "text/plain": [
              "SalePrice       1.000000\n",
              "OverallQual     0.790982\n",
              "GrLivArea       0.708624\n",
              "GarageCars      0.640409\n",
              "GarageArea      0.623431\n",
              "TotalBsmtSF     0.613581\n",
              "1stFlrSF        0.605852\n",
              "FullBath        0.560664\n",
              "TotRmsAbvGrd    0.533723\n",
              "YearBuilt       0.522897\n",
              "Name: SalePrice, dtype: float64"
            ]
          },
          "metadata": {},
          "execution_count": 14
        }
      ]
    },
    {
      "cell_type": "code",
      "source": [
        "df[num_features].corr()['SalePrice'].sort_values(ascending = False).tail(10) # 음의 상관관계도 절대값으로 따져볼 수 있으니까 확인해봄."
      ],
      "metadata": {
        "colab": {
          "base_uri": "https://localhost:8080/"
        },
        "id": "1hoYnzlFRQUy",
        "outputId": "3f76df93-8a3c-4cd1-b0f2-91970bbe7fb3"
      },
      "execution_count": 16,
      "outputs": [
        {
          "output_type": "execute_result",
          "data": {
            "text/plain": [
              "BsmtFinSF2      -0.011378\n",
              "BsmtHalfBath    -0.016844\n",
              "MiscVal         -0.021190\n",
              "Id              -0.021917\n",
              "LowQualFinSF    -0.025606\n",
              "YrSold          -0.028923\n",
              "OverallCond     -0.077856\n",
              "MSSubClass      -0.084284\n",
              "EnclosedPorch   -0.128578\n",
              "KitchenAbvGr    -0.135907\n",
              "Name: SalePrice, dtype: float64"
            ]
          },
          "metadata": {},
          "execution_count": 16
        }
      ]
    },
    {
      "cell_type": "code",
      "source": [
        "features = list(df[num_features].corr()['SalePrice'].sort_values(ascending = False).index[1:8])\n",
        "print(features)\n",
        "del features[3]\n",
        "print(features)\n",
        "\n",
        "target = 'SalePrice'\n",
        "\n",
        "# X,y split\n",
        "def xy_split(df) :\n",
        "  X = df[features]\n",
        "  y = df[target]\n",
        "  return X,y\n",
        "\n",
        "X_train, y_train = xy_split(train_sk)\n",
        "X_val, y_val = xy_split(val_sk)\n",
        "X_test, y_test = xy_split(test_sk)"
      ],
      "metadata": {
        "colab": {
          "base_uri": "https://localhost:8080/"
        },
        "id": "zQxqZ1vGReJn",
        "outputId": "a54b9840-1dfb-4d7c-f0ca-b9af4378b64a"
      },
      "execution_count": 26,
      "outputs": [
        {
          "output_type": "stream",
          "name": "stdout",
          "text": [
            "['OverallQual', 'GrLivArea', 'GarageCars', 'GarageArea', 'TotalBsmtSF', '1stFlrSF', 'FullBath']\n",
            "['OverallQual', 'GrLivArea', 'GarageCars', 'TotalBsmtSF', '1stFlrSF', 'FullBath']\n"
          ]
        }
      ]
    },
    {
      "cell_type": "code",
      "source": [
        "import numpy as np\n",
        "from sklearn.metrics import mean_squared_error, mean_absolute_error, r2_score\n",
        "pd.options.display.float_format = '{:,.2f}'.format\n",
        "\n",
        "def eval_models(y_true, y_pred) :\n",
        "  mse = mean_squared_error(y_true, y_pred).round(3)\n",
        "  rmse = np.sqrt(mse).round(3)\n",
        "  mae = mean_absolute_error(y_true, y_pred).round(3)\n",
        "  r2 = r2_score(y_true, y_pred)\n",
        "\n",
        "  return mse, rmse, mae, r2\n",
        "\n",
        "baseline = [y_train.mean()] * len(y_train)\n",
        "eval_models(baseline, y_train)\n"
      ],
      "metadata": {
        "id": "1OwREFdJYQEW"
      },
      "execution_count": null,
      "outputs": []
    }
  ]
}